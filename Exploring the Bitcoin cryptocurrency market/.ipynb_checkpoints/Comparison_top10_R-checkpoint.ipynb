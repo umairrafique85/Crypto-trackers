{
 "cells": [
  {
   "cell_type": "markdown",
   "metadata": {},
   "source": [
    "# TASK 1:"
   ]
  },
  {
   "cell_type": "code",
   "execution_count": 6,
   "metadata": {},
   "outputs": [
    {
     "data": {
      "text/html": [
       "<table>\n",
       "<thead><tr><th scope=col>id</th><th scope=col>name</th><th scope=col>symbol</th><th scope=col>rank</th><th scope=col>price_usd</th><th scope=col>price_btc</th><th scope=col>24h_volume_usd</th><th scope=col>market_cap_usd</th><th scope=col>available_supply</th><th scope=col>total_supply</th><th scope=col>max_supply</th><th scope=col>percent_change_1h</th><th scope=col>percent_change_24h</th><th scope=col>percent_change_7d</th><th scope=col>last_updated</th></tr></thead>\n",
       "<tbody>\n",
       "\t<tr><td>bitcoin      </td><td>Bitcoin      </td><td>BTC          </td><td>1            </td><td>11168.9      </td><td>1.0          </td><td>6257030000.0 </td><td>188789033590 </td><td>16903100.0   </td><td>16903100.0   </td><td>21000000.0   </td><td>-1.44        </td><td>-2.63        </td><td>5.08         </td><td>1520331865   </td></tr>\n",
       "\t<tr><td>ethereum     </td><td>Ethereum     </td><td>ETH          </td><td>2            </td><td>840.876      </td><td>0.0754461    </td><td>1866220000.0 </td><td>82419487376.0</td><td>98016220.0   </td><td>98016220.0   </td><td>NA           </td><td>-0.91        </td><td>-2.64        </td><td>-4.87        </td><td>1520331851   </td></tr>\n",
       "\t<tr><td>ripple       </td><td>Ripple       </td><td>XRP          </td><td>3            </td><td>0.954691     </td><td>0.00008566   </td><td>1172350000.0 </td><td>37320739240.0</td><td>39091956706.0</td><td>99992520283.0</td><td>100000000000 </td><td>-2.85        </td><td>-9.42        </td><td>-0.44        </td><td>1520331840   </td></tr>\n",
       "\t<tr><td>bitcoin-cash </td><td>Bitcoin Cash </td><td>BCH          </td><td>4            </td><td>1237.72      </td><td>0.111052     </td><td>362546000.0  </td><td>21044535430.0</td><td>17002663.0   </td><td>17002663.0   </td><td>21000000.0   </td><td>-1.14        </td><td>-3.35        </td><td>-2.64        </td><td>1520331852   </td></tr>\n",
       "\t<tr><td>litecoin     </td><td>Litecoin     </td><td>LTC          </td><td>5            </td><td>205.994      </td><td>0.0184825    </td><td>592015000.0  </td><td>11433704490.0</td><td>55505037.0   </td><td>55505037.0   </td><td>84000000.0   </td><td>-0.68        </td><td>-2.89        </td><td>-6.21        </td><td>1520331840   </td></tr>\n",
       "\t<tr><td>cardano      </td><td>Cardano      </td><td>ADA          </td><td>6            </td><td>0.294036     </td><td>0.00002638   </td><td>206738000.0  </td><td>7623492113.0 </td><td>25927070538.0</td><td>31112483745.0</td><td>45000000000.0</td><td>-2.28        </td><td>-1.1         </td><td>-12.68       </td><td>1520331854   </td></tr>\n",
       "</tbody>\n",
       "</table>\n"
      ],
      "text/latex": [
       "\\begin{tabular}{r|lllllllllllllll}\n",
       " id & name & symbol & rank & price\\_usd & price\\_btc & 24h\\_volume\\_usd & market\\_cap\\_usd & available\\_supply & total\\_supply & max\\_supply & percent\\_change\\_1h & percent\\_change\\_24h & percent\\_change\\_7d & last\\_updated\\\\\n",
       "\\hline\n",
       "\t bitcoin       & Bitcoin       & BTC           & 1             & 11168.9       & 1.0           & 6257030000.0  & 188789033590  & 16903100.0    & 16903100.0    & 21000000.0    & -1.44         & -2.63         & 5.08          & 1520331865   \\\\\n",
       "\t ethereum      & Ethereum      & ETH           & 2             & 840.876       & 0.0754461     & 1866220000.0  & 82419487376.0 & 98016220.0    & 98016220.0    & NA            & -0.91         & -2.64         & -4.87         & 1520331851   \\\\\n",
       "\t ripple        & Ripple        & XRP           & 3             & 0.954691      & 0.00008566    & 1172350000.0  & 37320739240.0 & 39091956706.0 & 99992520283.0 & 100000000000  & -2.85         & -9.42         & -0.44         & 1520331840   \\\\\n",
       "\t bitcoin-cash  & Bitcoin Cash  & BCH           & 4             & 1237.72       & 0.111052      & 362546000.0   & 21044535430.0 & 17002663.0    & 17002663.0    & 21000000.0    & -1.14         & -3.35         & -2.64         & 1520331852   \\\\\n",
       "\t litecoin      & Litecoin      & LTC           & 5             & 205.994       & 0.0184825     & 592015000.0   & 11433704490.0 & 55505037.0    & 55505037.0    & 84000000.0    & -0.68         & -2.89         & -6.21         & 1520331840   \\\\\n",
       "\t cardano       & Cardano       & ADA           & 6             & 0.294036      & 0.00002638    & 206738000.0   & 7623492113.0  & 25927070538.0 & 31112483745.0 & 45000000000.0 & -2.28         & -1.1          & -12.68        & 1520331854   \\\\\n",
       "\\end{tabular}\n"
      ],
      "text/markdown": [
       "\n",
       "id | name | symbol | rank | price_usd | price_btc | 24h_volume_usd | market_cap_usd | available_supply | total_supply | max_supply | percent_change_1h | percent_change_24h | percent_change_7d | last_updated | \n",
       "|---|---|---|---|---|---|\n",
       "| bitcoin       | Bitcoin       | BTC           | 1             | 11168.9       | 1.0           | 6257030000.0  | 188789033590  | 16903100.0    | 16903100.0    | 21000000.0    | -1.44         | -2.63         | 5.08          | 1520331865    | \n",
       "| ethereum      | Ethereum      | ETH           | 2             | 840.876       | 0.0754461     | 1866220000.0  | 82419487376.0 | 98016220.0    | 98016220.0    | NA            | -0.91         | -2.64         | -4.87         | 1520331851    | \n",
       "| ripple        | Ripple        | XRP           | 3             | 0.954691      | 0.00008566    | 1172350000.0  | 37320739240.0 | 39091956706.0 | 99992520283.0 | 100000000000  | -2.85         | -9.42         | -0.44         | 1520331840    | \n",
       "| bitcoin-cash  | Bitcoin Cash  | BCH           | 4             | 1237.72       | 0.111052      | 362546000.0   | 21044535430.0 | 17002663.0    | 17002663.0    | 21000000.0    | -1.14         | -3.35         | -2.64         | 1520331852    | \n",
       "| litecoin      | Litecoin      | LTC           | 5             | 205.994       | 0.0184825     | 592015000.0   | 11433704490.0 | 55505037.0    | 55505037.0    | 84000000.0    | -0.68         | -2.89         | -6.21         | 1520331840    | \n",
       "| cardano       | Cardano       | ADA           | 6             | 0.294036      | 0.00002638    | 206738000.0   | 7623492113.0  | 25927070538.0 | 31112483745.0 | 45000000000.0 | -2.28         | -1.1          | -12.68        | 1520331854    | \n",
       "\n",
       "\n"
      ],
      "text/plain": [
       "  id           name         symbol rank price_usd price_btc  24h_volume_usd\n",
       "1 bitcoin      Bitcoin      BTC    1    11168.9   1.0        6257030000.0  \n",
       "2 ethereum     Ethereum     ETH    2    840.876   0.0754461  1866220000.0  \n",
       "3 ripple       Ripple       XRP    3    0.954691  0.00008566 1172350000.0  \n",
       "4 bitcoin-cash Bitcoin Cash BCH    4    1237.72   0.111052   362546000.0   \n",
       "5 litecoin     Litecoin     LTC    5    205.994   0.0184825  592015000.0   \n",
       "6 cardano      Cardano      ADA    6    0.294036  0.00002638 206738000.0   \n",
       "  market_cap_usd available_supply total_supply  max_supply    percent_change_1h\n",
       "1 188789033590   16903100.0       16903100.0    21000000.0    -1.44            \n",
       "2 82419487376.0  98016220.0       98016220.0    NA            -0.91            \n",
       "3 37320739240.0  39091956706.0    99992520283.0 100000000000  -2.85            \n",
       "4 21044535430.0  17002663.0       17002663.0    21000000.0    -1.14            \n",
       "5 11433704490.0  55505037.0       55505037.0    84000000.0    -0.68            \n",
       "6 7623492113.0   25927070538.0    31112483745.0 45000000000.0 -2.28            \n",
       "  percent_change_24h percent_change_7d last_updated\n",
       "1 -2.63              5.08              1520331865  \n",
       "2 -2.64              -4.87             1520331851  \n",
       "3 -9.42              -0.44             1520331840  \n",
       "4 -3.35              -2.64             1520331852  \n",
       "5 -2.89              -6.21             1520331840  \n",
       "6 -1.1               -12.68            1520331854  "
      ]
     },
     "metadata": {},
     "output_type": "display_data"
    }
   ],
   "source": [
    "library(httr)\n",
    "library(jsonlite)\n",
    "\n",
    "url_coinmarcap <- \"https://api.coinmarketcap.com\"\n",
    "path_ticker <- \"v1/ticker/\"\n",
    "\n",
    "raw.data <- GET(url = url_coinmarcap, path = path_ticker)\n",
    "raw.content <- rawToChar(raw.data$content)\n",
    "\n",
    "neat_content <- fromJSON(raw.content)\n",
    "\n",
    "head(neat_content)\n"
   ]
  },
  {
   "cell_type": "markdown",
   "metadata": {},
   "source": [
    "2. Full dataset, filtering, and reproducibility\n",
    "\n",
    "The previous API call returns only the first 100 coins, and we want to explore as many coins as possible. Moreover, we can't produce reproducible analysis with live online data. To solve these problems, we will load a CSV we conveniently saved on the 6th of December of 2017 using the API call https://api.coinmarketcap.com/v1/ticker/?limit=0 named datasets/coinmarketcap_06122017.csv. "
   ]
  },
  {
   "cell_type": "code",
   "execution_count": 7,
   "metadata": {},
   "outputs": [
    {
     "data": {
      "text/html": [
       "<dl>\n",
       "\t<dt>$id</dt>\n",
       "\t\t<dd>1326</dd>\n",
       "\t<dt>$market_cap_usd</dt>\n",
       "\t\t<dd>1031</dd>\n",
       "</dl>\n"
      ],
      "text/latex": [
       "\\begin{description}\n",
       "\\item[\\$id] 1326\n",
       "\\item[\\$market\\_cap\\_usd] 1031\n",
       "\\end{description}\n"
      ],
      "text/markdown": [
       "$id\n",
       ":   1326\n",
       "$market_cap_usd\n",
       ":   1031\n",
       "\n",
       "\n"
      ],
      "text/plain": [
       "$id\n",
       "[1] 1326\n",
       "\n",
       "$market_cap_usd\n",
       "[1] 1031\n"
      ]
     },
     "metadata": {},
     "output_type": "display_data"
    }
   ],
   "source": [
    "# Reading datasets/coinmarketcap_06122017.csv into pandas\n",
    "\n",
    "dec6 <- read.csv('datasets/coinmarketcap_06122017.csv')\n",
    "\n",
    "\n",
    "# Selecting the 'id' and the 'market_cap_usd' columns\n",
    "market_cap_raw <- dec6[, c(\"id\", \"market_cap_usd\")]\n",
    "\n",
    "# Counting the number of values\n",
    "# ... YOUR CODE FOR TASK 2 ...\n",
    "lapply(market_cap_raw, function(x) {length(x[!is.na(x)])})"
   ]
  },
  {
   "cell_type": "markdown",
   "metadata": {},
   "source": [
    "3. Discard the cryptocurrencies without a market capitalization\n",
    "\n",
    "Why do the count() for id and market_cap_usd differ above? It is because some cryptocurrencies listed in coinmarketcap.com have no known market capitalization, this is represented by NaN in the data, and NaNs are not counted by count(). These cryptocurrencies are of little interest to us in this analysis, so they are safe to remove."
   ]
  },
  {
   "cell_type": "code",
   "execution_count": 8,
   "metadata": {},
   "outputs": [
    {
     "data": {
      "text/html": [
       "1031"
      ],
      "text/latex": [
       "1031"
      ],
      "text/markdown": [
       "1031"
      ],
      "text/plain": [
       "[1] 1031"
      ]
     },
     "metadata": {},
     "output_type": "display_data"
    }
   ],
   "source": [
    "# Filtering out rows without a market capitalization\n",
    "# cap = market_cap_raw.query('market_cap_usd > 0')\n",
    "\n",
    "cap <- market_cap_raw[!is.na(market_cap_raw$market_cap_usd),]\n",
    "\n",
    "# Counting the number of values again\n",
    "# ... YOUR CODE FOR TASK 3 ...\n",
    "\n",
    "nrow(cap)"
   ]
  },
  {
   "cell_type": "markdown",
   "metadata": {},
   "source": [
    "4. How big is Bitcoin compared with the rest of the cryptocurrencies?\n",
    "\n",
    "At the time of writing, Bitcoin is under serious competition from other projects, but it is still dominant in market capitalization. Let's plot the market capitalization for the top 10 coins as a barplot to better visualize this."
   ]
  },
  {
   "cell_type": "code",
   "execution_count": 17,
   "metadata": {},
   "outputs": [
    {
     "data": {},
     "metadata": {},
     "output_type": "display_data"
    },
    {
     "data": {
      "image/png": "[encoded data removed]",
      "text/plain": [
       "plot without title"
      ]
     },
     "metadata": {},
     "output_type": "display_data"
    }
   ],
   "source": [
    "#Declaring these now for later use in the plots\n",
    "TOP_CAP_TITLE = 'Top 10 market capitalization'\n",
    "TOP_CAP_YLABEL = '% of total cap'\n",
    "\n",
    "# Selecting the first 10 rows and setting the index\n",
    "cap10 = head(cap, 10)\n",
    "\n",
    "# Calculating market_cap_perc\n",
    "cap10$market_cap_perc <- (cap10$market_cap_usd/sum(cap$market_cap_usd))*100\n",
    "\n",
    "library(ggplot2)\n",
    "# Plotting the barplot with the title defined above \n",
    "# ax = ...\n",
    "\n",
    "# Annotating the y axis with the label defined above\n",
    "# ... YOUR CODE FOR TASK 4 ...\n",
    "\n",
    "ggplot(cap10, aes(x = reorder(id, -market_cap_perc), y = market_cap_perc)) + geom_bar(stat = 'identity') + \n",
    "labs(title = TOP_CAP_TITLE, y = TOP_CAP_YLABEL, x = \"coin\") + theme(plot.title = element_text(hjust=0.5))"
   ]
  },
  {
   "cell_type": "markdown",
   "metadata": {},
   "source": [
    "5. Making the plot easier to read and more informative\n",
    "\n",
    "While the plot above is informative enough, it can be improved. Bitcoin is too big, and the other coins are hard to distinguish because of this. Instead of the percentage, let's use a log10 scale of the \"raw\" capitalization. Plus, let's use color to group similar coins and make the plot more informative1.\n",
    "\n",
    "For the colors rationale: bitcoin-cash and bitcoin-gold are forks of the bitcoin blockchain2. Ethereum and Cardano both offer Turing Complete smart contracts. Iota and Ripple are not minable. Dash, Litecoin, and Monero get their own color.\n",
    "\n",
    "1 This coloring is a simplification. There are more differences and similarities that are not being represented here.\n",
    "\n",
    "2 The bitcoin forks are actually very different, but it is out of scope to talk about them here. Please see the warning above and do your own research."
   ]
  },
  {
   "cell_type": "code",
   "execution_count": null,
   "metadata": {
    "collapsed": true
   },
   "outputs": [],
   "source": [
    "# Colors for the bar plot\n",
    "COLORS = ['orange', 'green', 'orange', 'cyan', 'cyan', 'blue', 'silver', 'orange', 'red', 'green']\n",
    "\n",
    "# Plotting market_cap_usd as before but adding the colors and scaling the y-axis  \n",
    "ax = ...\n",
    "\n",
    "# Annotating the y axis with 'USD'\n",
    "# ... YOUR CODE FOR TASK 5 ...\n",
    "\n",
    "# Final touch! Removing the xlabel as it is not very informative\n",
    "# ... YOUR CODE FOR TASK 5 ..."
   ]
  },
  {
   "cell_type": "markdown",
   "metadata": {},
   "source": [
    "6. What is going on?! Volatility in cryptocurrencies\n",
    "\n",
    "The cryptocurrencies market has been spectacularly volatile since the first exchange opened. This notebook didn't start with a big, bold warning for nothing. Let's explore this volatility a bit more! We will begin by selecting and plotting the 24 hours and 7 days percentage change, which we already have available."
   ]
  },
  {
   "cell_type": "code",
   "execution_count": null,
   "metadata": {
    "collapsed": true
   },
   "outputs": [],
   "source": [
    "# Selecting the id, percent_change_24h and percent_change_7d columns\n",
    "volatility = ...\n",
    "\n",
    "# Setting the index to 'id' and dropping all NaN rows\n",
    "volatility = ...\n",
    "\n",
    "# Sorting the DataFrame by percent_change_24h in ascending order\n",
    "volatility = ...\n",
    "\n",
    "# Checking the first few rows\n",
    "# ... YOUR CODE FOR TASK 6 ..."
   ]
  },
  {
   "cell_type": "markdown",
   "metadata": {},
   "source": [
    "7. Well, we can already see that things are a bit crazy\n",
    "\n",
    "It seems you can lose a lot of money quickly on cryptocurrencies. Let's plot the top 10 biggest gainers and top 10 losers in market capitalization."
   ]
  },
  {
   "cell_type": "code",
   "execution_count": null,
   "metadata": {
    "collapsed": true
   },
   "outputs": [],
   "source": [
    "#Defining a function with 2 parameters, the series to plot and the title\n",
    "def top10_subplot(volatility_series, title):\n",
    "    # Making the subplot and the figure for two side by side plots\n",
    "    fig, axes = plt.subplots(nrows=1, ncols=2, figsize=(10, 6))\n",
    "    \n",
    "    # Plotting with pandas the barchart for the top 10 losers\n",
    "    ax = ...\n",
    "    \n",
    "    # Setting the figure's main title to the text passed as parameter\n",
    "    # ... YOUR CODE FOR TASK 7 ...\n",
    "    \n",
    "    # Setting the ylabel to '% change'\n",
    "    # ... YOUR CODE FOR TASK 7 ...\n",
    "    \n",
    "    # Same as above, but for the top 10 winners\n",
    "    ax = ...\n",
    "    \n",
    "    # Returning this for good practice, might use later\n",
    "    return fig, ax\n",
    "\n",
    "DTITLE = \"24 hours top losers and winners\"\n",
    "\n",
    "# Calling the function above with the 24 hours period series and title DTITLE  \n",
    "fig, ax = ..."
   ]
  },
  {
   "cell_type": "markdown",
   "metadata": {},
   "source": [
    "8. Ok, those are... interesting. Let's check the weekly Series too.\n",
    "\n",
    "800% daily increase?! Why are we doing this tutorial and not buying random coins?1\n",
    "\n",
    "After calming down, let's reuse the function defined above to see what is going weekly instead of daily.\n",
    "\n",
    "1 Please take a moment to understand the implications of the red plots on how much value some cryptocurrencies lose in such short periods of time"
   ]
  },
  {
   "cell_type": "code",
   "execution_count": null,
   "metadata": {
    "collapsed": true
   },
   "outputs": [],
   "source": [
    "# Sorting in ascending order\n",
    "volatility7d = ...\n",
    "\n",
    "WTITLE = \"Weekly top losers and winners\"\n",
    "\n",
    "# Calling the top10_subplot function\n",
    "fig, ax = ..."
   ]
  },
  {
   "cell_type": "markdown",
   "metadata": {},
   "source": [
    "9. How small is small?\n",
    "\n",
    "The names of the cryptocurrencies above are quite unknown, and there is a considerable fluctuation between the 1 and 7 days percentage changes. As with stocks, and many other financial products, the smaller the capitalization, the bigger the risk and reward. Smaller cryptocurrencies are less stable projects in general, and therefore even riskier investments than the bigger ones1. Let's classify our dataset based on Investopedia's capitalization definitions for company stocks.\n",
    "\n",
    "1 Cryptocurrencies are a new asset class, so they are not directly comparable to stocks. Furthermore, there are no limits set in stone for what a \"small\" or \"large\" stock is. Finally, some investors argue that bitcoin is similar to gold, this would make them more comparable to a commodity instead.\n"
   ]
  },
  {
   "cell_type": "code",
   "execution_count": null,
   "metadata": {
    "collapsed": true
   },
   "outputs": [],
   "source": [
    "# Selecting everything bigger than 10 billion \n",
    "largecaps = ...\n",
    "\n",
    "# Printing out largecaps\n",
    "# ... YOUR CODE FOR TASK 9 ..."
   ]
  },
  {
   "cell_type": "markdown",
   "metadata": {},
   "source": [
    "10. Most coins are tiny\n",
    "\n",
    "Note that many coins are not comparable to large companies in market cap, so let's divert from the original Investopedia definition by merging categories.\n",
    "\n",
    "This is all for now. Thanks for completing this project!\n"
   ]
  },
  {
   "cell_type": "code",
   "execution_count": null,
   "metadata": {
    "collapsed": true
   },
   "outputs": [],
   "source": [
    "# Making a nice function for counting different marketcaps from the\n",
    "# \"cap\" DataFrame. Returns an int.\n",
    "# INSTRUCTORS NOTE: Since you made it to the end, consider it a gift :D\n",
    "def capcount(query_string):\n",
    "    return cap.query(query_string).count().id\n",
    "\n",
    "# Labels for the plot\n",
    "LABELS = [\"biggish\", \"micro\", \"nano\"]\n",
    "\n",
    "# Using capcount count the biggish cryptos\n",
    "biggish = ...\n",
    "\n",
    "# Same as above for micro ...\n",
    "micro = ...\n",
    "\n",
    "# ... and for nano\n",
    "nano =  ...\n",
    "\n",
    "# Making a list with the 3 counts\n",
    "values = ...\n",
    "\n",
    "# Plotting them with matplotlib \n",
    "# ... YOUR CODE FOR TASK 10 ..."
   ]
  }
 ],
 "metadata": {
  "kernelspec": {
   "display_name": "R",
   "language": "R",
   "name": "ir"
  },
  "language_info": {
   "codemirror_mode": "r",
   "file_extension": ".r",
   "mimetype": "text/x-r-source",
   "name": "R",
   "pygments_lexer": "r",
   "version": "3.4.3"
  }
 },
 "nbformat": 4,
 "nbformat_minor": 2
}
