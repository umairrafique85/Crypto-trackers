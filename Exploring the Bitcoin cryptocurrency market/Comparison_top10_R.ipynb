{
 "cells": [
  {
   "cell_type": "markdown",
   "metadata": {},
   "source": [
    "# TASK 1:"
   ]
  },
  {
   "cell_type": "code",
   "execution_count": 6,
   "metadata": {},
   "outputs": [
    {
     "data": {
      "text/html": [
       "<table>\n",
       "<thead><tr><th scope=col>id</th><th scope=col>name</th><th scope=col>symbol</th><th scope=col>rank</th><th scope=col>price_usd</th><th scope=col>price_btc</th><th scope=col>24h_volume_usd</th><th scope=col>market_cap_usd</th><th scope=col>available_supply</th><th scope=col>total_supply</th><th scope=col>max_supply</th><th scope=col>percent_change_1h</th><th scope=col>percent_change_24h</th><th scope=col>percent_change_7d</th><th scope=col>last_updated</th></tr></thead>\n",
       "<tbody>\n",
       "\t<tr><td>bitcoin      </td><td>Bitcoin      </td><td>BTC          </td><td>1            </td><td>11168.9      </td><td>1.0          </td><td>6257030000.0 </td><td>188789033590 </td><td>16903100.0   </td><td>16903100.0   </td><td>21000000.0   </td><td>-1.44        </td><td>-2.63        </td><td>5.08         </td><td>1520331865   </td></tr>\n",
       "\t<tr><td>ethereum     </td><td>Ethereum     </td><td>ETH          </td><td>2            </td><td>840.876      </td><td>0.0754461    </td><td>1866220000.0 </td><td>82419487376.0</td><td>98016220.0   </td><td>98016220.0   </td><td>NA           </td><td>-0.91        </td><td>-2.64        </td><td>-4.87        </td><td>1520331851   </td></tr>\n",
       "\t<tr><td>ripple       </td><td>Ripple       </td><td>XRP          </td><td>3            </td><td>0.954691     </td><td>0.00008566   </td><td>1172350000.0 </td><td>37320739240.0</td><td>39091956706.0</td><td>99992520283.0</td><td>100000000000 </td><td>-2.85        </td><td>-9.42        </td><td>-0.44        </td><td>1520331840   </td></tr>\n",
       "\t<tr><td>bitcoin-cash </td><td>Bitcoin Cash </td><td>BCH          </td><td>4            </td><td>1237.72      </td><td>0.111052     </td><td>362546000.0  </td><td>21044535430.0</td><td>17002663.0   </td><td>17002663.0   </td><td>21000000.0   </td><td>-1.14        </td><td>-3.35        </td><td>-2.64        </td><td>1520331852   </td></tr>\n",
       "\t<tr><td>litecoin     </td><td>Litecoin     </td><td>LTC          </td><td>5            </td><td>205.994      </td><td>0.0184825    </td><td>592015000.0  </td><td>11433704490.0</td><td>55505037.0   </td><td>55505037.0   </td><td>84000000.0   </td><td>-0.68        </td><td>-2.89        </td><td>-6.21        </td><td>1520331840   </td></tr>\n",
       "\t<tr><td>cardano      </td><td>Cardano      </td><td>ADA          </td><td>6            </td><td>0.294036     </td><td>0.00002638   </td><td>206738000.0  </td><td>7623492113.0 </td><td>25927070538.0</td><td>31112483745.0</td><td>45000000000.0</td><td>-2.28        </td><td>-1.1         </td><td>-12.68       </td><td>1520331854   </td></tr>\n",
       "</tbody>\n",
       "</table>\n"
      ],
      "text/latex": [
       "\\begin{tabular}{r|lllllllllllllll}\n",
       " id & name & symbol & rank & price\\_usd & price\\_btc & 24h\\_volume\\_usd & market\\_cap\\_usd & available\\_supply & total\\_supply & max\\_supply & percent\\_change\\_1h & percent\\_change\\_24h & percent\\_change\\_7d & last\\_updated\\\\\n",
       "\\hline\n",
       "\t bitcoin       & Bitcoin       & BTC           & 1             & 11168.9       & 1.0           & 6257030000.0  & 188789033590  & 16903100.0    & 16903100.0    & 21000000.0    & -1.44         & -2.63         & 5.08          & 1520331865   \\\\\n",
       "\t ethereum      & Ethereum      & ETH           & 2             & 840.876       & 0.0754461     & 1866220000.0  & 82419487376.0 & 98016220.0    & 98016220.0    & NA            & -0.91         & -2.64         & -4.87         & 1520331851   \\\\\n",
       "\t ripple        & Ripple        & XRP           & 3             & 0.954691      & 0.00008566    & 1172350000.0  & 37320739240.0 & 39091956706.0 & 99992520283.0 & 100000000000  & -2.85         & -9.42         & -0.44         & 1520331840   \\\\\n",
       "\t bitcoin-cash  & Bitcoin Cash  & BCH           & 4             & 1237.72       & 0.111052      & 362546000.0   & 21044535430.0 & 17002663.0    & 17002663.0    & 21000000.0    & -1.14         & -3.35         & -2.64         & 1520331852   \\\\\n",
       "\t litecoin      & Litecoin      & LTC           & 5             & 205.994       & 0.0184825     & 592015000.0   & 11433704490.0 & 55505037.0    & 55505037.0    & 84000000.0    & -0.68         & -2.89         & -6.21         & 1520331840   \\\\\n",
       "\t cardano       & Cardano       & ADA           & 6             & 0.294036      & 0.00002638    & 206738000.0   & 7623492113.0  & 25927070538.0 & 31112483745.0 & 45000000000.0 & -2.28         & -1.1          & -12.68        & 1520331854   \\\\\n",
       "\\end{tabular}\n"
      ],
      "text/markdown": [
       "\n",
       "id | name | symbol | rank | price_usd | price_btc | 24h_volume_usd | market_cap_usd | available_supply | total_supply | max_supply | percent_change_1h | percent_change_24h | percent_change_7d | last_updated | \n",
       "|---|---|---|---|---|---|\n",
       "| bitcoin       | Bitcoin       | BTC           | 1             | 11168.9       | 1.0           | 6257030000.0  | 188789033590  | 16903100.0    | 16903100.0    | 21000000.0    | -1.44         | -2.63         | 5.08          | 1520331865    | \n",
       "| ethereum      | Ethereum      | ETH           | 2             | 840.876       | 0.0754461     | 1866220000.0  | 82419487376.0 | 98016220.0    | 98016220.0    | NA            | -0.91         | -2.64         | -4.87         | 1520331851    | \n",
       "| ripple        | Ripple        | XRP           | 3             | 0.954691      | 0.00008566    | 1172350000.0  | 37320739240.0 | 39091956706.0 | 99992520283.0 | 100000000000  | -2.85         | -9.42         | -0.44         | 1520331840    | \n",
       "| bitcoin-cash  | Bitcoin Cash  | BCH           | 4             | 1237.72       | 0.111052      | 362546000.0   | 21044535430.0 | 17002663.0    | 17002663.0    | 21000000.0    | -1.14         | -3.35         | -2.64         | 1520331852    | \n",
       "| litecoin      | Litecoin      | LTC           | 5             | 205.994       | 0.0184825     | 592015000.0   | 11433704490.0 | 55505037.0    | 55505037.0    | 84000000.0    | -0.68         | -2.89         | -6.21         | 1520331840    | \n",
       "| cardano       | Cardano       | ADA           | 6             | 0.294036      | 0.00002638    | 206738000.0   | 7623492113.0  | 25927070538.0 | 31112483745.0 | 45000000000.0 | -2.28         | -1.1          | -12.68        | 1520331854    | \n",
       "\n",
       "\n"
      ],
      "text/plain": [
       "  id           name         symbol rank price_usd price_btc  24h_volume_usd\n",
       "1 bitcoin      Bitcoin      BTC    1    11168.9   1.0        6257030000.0  \n",
       "2 ethereum     Ethereum     ETH    2    840.876   0.0754461  1866220000.0  \n",
       "3 ripple       Ripple       XRP    3    0.954691  0.00008566 1172350000.0  \n",
       "4 bitcoin-cash Bitcoin Cash BCH    4    1237.72   0.111052   362546000.0   \n",
       "5 litecoin     Litecoin     LTC    5    205.994   0.0184825  592015000.0   \n",
       "6 cardano      Cardano      ADA    6    0.294036  0.00002638 206738000.0   \n",
       "  market_cap_usd available_supply total_supply  max_supply    percent_change_1h\n",
       "1 188789033590   16903100.0       16903100.0    21000000.0    -1.44            \n",
       "2 82419487376.0  98016220.0       98016220.0    NA            -0.91            \n",
       "3 37320739240.0  39091956706.0    99992520283.0 100000000000  -2.85            \n",
       "4 21044535430.0  17002663.0       17002663.0    21000000.0    -1.14            \n",
       "5 11433704490.0  55505037.0       55505037.0    84000000.0    -0.68            \n",
       "6 7623492113.0   25927070538.0    31112483745.0 45000000000.0 -2.28            \n",
       "  percent_change_24h percent_change_7d last_updated\n",
       "1 -2.63              5.08              1520331865  \n",
       "2 -2.64              -4.87             1520331851  \n",
       "3 -9.42              -0.44             1520331840  \n",
       "4 -3.35              -2.64             1520331852  \n",
       "5 -2.89              -6.21             1520331840  \n",
       "6 -1.1               -12.68            1520331854  "
      ]
     },
     "metadata": {},
     "output_type": "display_data"
    }
   ],
   "source": [
    "library(httr)\n",
    "library(jsonlite)\n",
    "\n",
    "url_coinmarcap <- \"https://api.coinmarketcap.com\"\n",
    "path_ticker <- \"v1/ticker/\"\n",
    "\n",
    "raw.data <- GET(url = url_coinmarcap, path = path_ticker)\n",
    "raw.content <- rawToChar(raw.data$content)\n",
    "\n",
    "neat_content <- fromJSON(raw.content)\n",
    "\n",
    "head(neat_content)\n"
   ]
  },
  {
   "cell_type": "code",
   "execution_count": null,
   "metadata": {
    "collapsed": true
   },
   "outputs": [],
   "source": []
  }
 ],
 "metadata": {
  "kernelspec": {
   "display_name": "R",
   "language": "R",
   "name": "ir"
  },
  "language_info": {
   "codemirror_mode": "r",
   "file_extension": ".r",
   "mimetype": "text/x-r-source",
   "name": "R",
   "pygments_lexer": "r",
   "version": "3.4.3"
  }
 },
 "nbformat": 4,
 "nbformat_minor": 2
}
